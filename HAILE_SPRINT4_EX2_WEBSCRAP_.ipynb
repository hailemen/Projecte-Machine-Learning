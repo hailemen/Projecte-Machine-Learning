{
 "cells": [
  {
   "cell_type": "markdown",
   "metadata": {},
   "source": [
    "**Ejercicio 2:** Obtener datos con Web Scraping.\n",
    "\n",
    "Selecciona un sitio web y extrae datos utilizando Web Scraping con Python\n",
    "\n",
    "Siguiendo la temática de la astronomía, utilizo una página que contiene un listado de los 100 objetos a mirar del astrónomo Charles A. Woods"
   ]
  },
  {
   "cell_type": "code",
   "execution_count": 12,
   "metadata": {},
   "outputs": [],
   "source": [
    "import requests\n",
    "from bs4 import BeautifulSoup\n",
    "\n",
    "# URL del sitio web\n",
    "url = 'http://www.bitacoradegalileo.com/lista-lunar-100/'\n",
    "\n",
    "# Realizar la solicitud HTTP a la página web\n",
    "response = requests.get(url)\n",
    "\n",
    "# Comprobar que la solicitud fue exitosa (código 200), también creo un objeto BS para analizar el contenido del HTML\n",
    "if response.status_code == 200:\n",
    "    soup = BeautifulSoup(response.content, 'html.parser')\n",
    "\n",
    "    lunar_objects = soup.find_all('div', class_='post-page')  \n",
    "\n",
    "\n",
    "else:\n",
    "    print(f'Error al acceder a la página. Código de estado: {response.status_code}')\n",
    "\n",
    "# Inspeccionaré la página donde se encuentran los datos para ver en dónde puedo encontrar las etiquetas que me interesa localizar\n",
    "\n",
    "# lunar_objects (comento esta línea para que el resultado extenso no aparezca en Github)\n",
    "\n",
    "\n"
   ]
  },
  {
   "cell_type": "markdown",
   "metadata": {},
   "source": [
    "Observando el HTML observo que los valores que me interesan están dentro de las etiquetas <tr>(las filas) <td>, con una estructura como formato tabla, \n",
    "por lo que el proceso de extracción lo haré en el siguiente orden:\n",
    "\n",
    "- Encontrar las filas de la tabla que me interesa.\n",
    "\n",
    "- Hacer un recorrido por las filas, verificando que en cada fila haya al menos una celda y de ahí extraer el texto"
   ]
  },
  {
   "cell_type": "code",
   "execution_count": 10,
   "metadata": {},
   "outputs": [
    {
     "name": "stdout",
     "output_type": "stream",
     "text": [
      "ID: L1, Nombre: Luna, Descripción: Gran satélite, Campo vacío: , Diámetro: 3476\n",
      "ID: L3, Nombre: Dicotomía mares/tierras altas, Descripción: Dos materiales con distinta composición, Campo vacío: , Diámetro: \n",
      "ID: L5, Nombre: Copérnico, Descripción: Arquetipo de grandes cráteres complejos, Campo vacío: 9.7N 20.1W, Diámetro: 93\n",
      "ID: L7, Nombre: Rupes Altai, Descripción: Borde de la cuenca de Nectaris, Campo vacío: 24.3S 22.6E, Diámetro: 425\n",
      "ID: L9, Nombre: Clavius, Descripción: Carece de las características de cuenca a pesar de su tamaño, Campo vacío: 58.8S 14.1W, Diámetro: 225\n",
      "ID: L11, Nombre: Aristarco, Descripción: Cráter muy brillante con bandas oscuras en sus paredes, Campo vacío: 23.7N 47.4W, Diámetro: 40\n",
      "ID: L13, Nombre: Gassendi, Descripción: Cráter de suelo fracturado, Campo vacío: 17.6S 40.1W, Diámetro: 101\n",
      "ID: L15, Nombre: Rupes Recta, Descripción: El mejor ejemplo de falla lunar, Campo vacío: 21.8S 7.8W, Diámetro: 110\n",
      "ID: L17, Nombre: Vallis Schröteri, Descripción: Rima gigante sinuosa, Campo vacío: 26.2N 50.8W, Diámetro: 168\n",
      "ID: L19, Nombre: Vallis Alpes, Descripción: Graben lunar, Campo vacío: 49.0N 3.0E, Diámetro: 165\n",
      "ID: L21, Nombre: Fracastorius, Descripción: Cráter con suelo hundido y fracturado, Campo vacío: 21.5S 33.2E, Diámetro: 124\n",
      "ID: L23, Nombre: Pico, Descripción: Fragmento aislado del anillo de la cuenca de Imbrium, Campo vacío: 45.7N 8.9W, Diámetro: 25\n",
      "ID: L25, Nombre: Messier y Messier A, Descripción: Par de impactos de rebote oblicuos, Campo vacío: 1.9S 47.6E, Diámetro: 11\n",
      "ID: L27, Nombre: Arquímedes, Descripción: Gran cráter carente de pico central, Campo vacío: 29.7N 4.0W, Diámetro: 83\n",
      "ID: L29, Nombre: Rima Ariadaeus, Descripción: Graben lineal, largo, Campo vacío: 6.4N 14.0E, Diámetro: 250\n",
      "ID: L31, Nombre: Taruntius, Descripción: Cráter joven de suelo fracturado, Campo vacío: 5.6N 46.5E, Diámetro: 56\n",
      "ID: L33, Nombre: Serpentine Ridge, Descripción: Segmento del anillo interior de una cuenca, Campo vacío: 27.3N 25.3E, Diámetro: 155\n",
      "ID: L35, Nombre: Rimae Triesnecker, Descripción: Familia de rimas, Campo vacío: 4.3N 4.6E, Diámetro: 215\n",
      "ID: L37, Nombre: Bailly, Descripción: Cuenca apenas discernible, Campo vacío: 66.5S 69.1W, Diámetro: 303\n",
      "ID: L39, Nombre: Schickard, Descripción: Suelo del cráter con rayos de eyecta de Mare Orientale, Campo vacío: 44.3S 55.3W, Diámetro: 227\n",
      "ID: L41, Nombre: Rayo de Bessel, Descripción: Rayo de origen incierto cercano a Bessel, Campo vacío: 21.8N 17.9E, Diámetro: \n",
      "ID: L43, Nombre: Wargentin, Descripción: Cráter lleno hasta el borde con lava o eyecta, Campo vacío: 49.6S 60.2W, Diámetro: 84\n",
      "ID: L45, Nombre: Maurolycus, Descripción: Región de craterización saturada, Campo vacío: 42.0S 14.0E, Diámetro: 114\n",
      "ID: L47, Nombre: Manchas oscuras en Alphonsus, Descripción: Erupciones de halo oscuro sobre el suelo del cráter, Campo vacío: 13.7S 3.2W, Diámetro: 119\n",
      "ID: L49, Nombre: Gruithuisen Delta y Gamma, Descripción: Elevaciones volcánicas formadas con lavas viscosas, Campo vacío: 36.3N 40.0W, Diámetro: 20\n",
      "ID: L51, Nombre: Cadena de cráteres de Davy, Descripción: Resultado de impacto de cometa fragmentado, Campo vacío: 11.1S 6.6W, Diámetro: 50\n",
      "ID: L53, Nombre: Lamont, Descripción: Posible cuenca sepultada, Campo vacío: 4.4N 23.7E, Diámetro: 106\n",
      "ID: L55, Nombre: Baco, Descripción: Cráter de suelo inusualmente llano rodeado de planicies, Campo vacío: 51.0S 19.1E, Diámetro: 69\n",
      "ID: L57, Nombre: Reiner Gamma, Descripción: Destacado remolino y anomalía magnética, Campo vacío: 7.7N 59.2N, Diámetro: 70\n",
      "ID: L59, Nombre: Cuenca de Schiller-Zucchius, Descripción: Cuenca severamente degradada, Campo vacío: 56.0S 45.0W, Diámetro: 335\n",
      "ID: L61, Nombre: Mösting A, Descripción: Cráter cercano al centro de la cara cercana de la Luna, Campo vacío: 3.2S 5.2W, Diámetro: 13\n",
      "ID: L63, Nombre: Estructura de Imbrium, Descripción: Material eyectado de la cuenca cerca y sobre Boskovich y Julius Caesar, Campo vacío: 11.0N 12.0E, Diámetro: \n",
      "ID: L65, Nombre: Domos de Hortensius, Descripción: Elevaciones volcánicas al norte de Hortensius, Campo vacío: 7.6N 27.9W, Diámetro: 10\n",
      "ID: L67, Nombre: Formación Fra Mauro, Descripción: Lugar de alunizaje del Apolo 16 en una eyecta de Imbrium, Campo vacío: 3.6S 17.5W, Diámetro: \n",
      "ID: L69, Nombre: Cráteres secundarios de Copérnico, Descripción: Rayos y pequeños cráteres cercanos a Pytheas, Campo vacío: 19.6N 19.1W, Diámetro: 4\n",
      "ID: L71, Nombre: Manto oscuro de Sulpicius Gallus, Descripción: Erupciones de ceniza al noroeste del cráter, Campo vacío: 19.6N 11.6E, Diámetro: 12\n",
      "ID: L73, Nombre: Mare Smythii, Descripción: Mare difícil de observar, Campo vacío: 2.0S 87.0E, Diámetro: 740\n",
      "ID: L75, Nombre: Ptolemaeus B, Descripción: Depresión llana en el suelo de Ptolomaeus, Campo vacío: 8.0S 0.8W, Diámetro: 16\n",
      "ID: L77, Nombre: Rimae Sirsalis, Descripción: Rimae radiales de la cuenca de Procellarum, Campo vacío: 15.7S 61.7W, Diámetro: 425\n",
      "ID: L79, Nombre: Sinus Aestuum, Descripción: Manto oscuro de depósitos volcánicos en el este, Campo vacío: 12.0N 3.5W, Diámetro: 90\n",
      "ID: L81, Nombre: Hesiodus A, Descripción: Cráter concéntrico, Campo vacío: 30.1S 17.0W, Diámetro: 15\n",
      "ID: L83, Nombre: Pequeños cráteres de Plato, Descripción: Agujeros de cráteres en el límite de resolución, Campo vacío: 51.6N 9.4W, Diámetro: 101\n",
      "ID: L85, Nombre: Rayos de Langrenus, Descripción: Sistema de rayos viejos, Campo vacío: 8.9S 60.9E, Diámetro: 132\n",
      "ID: L87, Nombre: Humboldt, Descripción: Cráter con picos centrales y manchas oscuras, Campo vacío: 27.0S 43.0W, Diámetro: 207\n",
      "ID: L89, Nombre: Domo de Valentine, Descripción: Elevación volcánica, Campo vacío: 30.5N 10.1E, Diámetro: 30\n",
      "ID: L91, Nombre: Rimae de Gasparis, Descripción: Área con abundantes rimae, Campo vacío: 25.9S 50.7W, Diámetro: 30\n",
      "ID: L93, Nombre: Rayos de Dionysius, Descripción: Rayos oscuros raros e inusuales, Campo vacío: 2.8N 17.3E, Diámetro: 18\n",
      "ID: L95, Nombre: Cuenca Procellarum, Descripción: ¿La mayor cuenca de la Luna?, Campo vacío: 23.0N 15.0W, Diámetro: 3200\n",
      "ID: L97, Nombre: Vallis Inghirami, Descripción: Eyecta de Mare Orientale, Campo vacío: 44.0S 73.0W, Diámetro: 140\n",
      "ID: L99, Nombre: Ina, Descripción: Joven caldera volcánica con forma de «D», Campo vacío: 18.6N 5.3E, Diámetro: 3\n"
     ]
    }
   ],
   "source": [
    "import requests\n",
    "from bs4 import BeautifulSoup\n",
    "\n",
    "# URL del sitio web\n",
    "url = 'http://www.bitacoradegalileo.com/lista-lunar-100/'\n",
    "\n",
    "response = requests.get(url)\n",
    "\n",
    "# Comprobación de la conexión\n",
    "if response.status_code == 200:\n",
    "    soup = BeautifulSoup(response.content, 'html.parser')\n",
    "\n",
    "    # Buscar las filas que contienen la lista de objetos lunares\n",
    "    filas = soup.find_all('tr')  \n",
    "\n",
    "    # Se hace el recorrido de las filas y se extraen los datos de las celdas <td>\n",
    "    for fila in filas:\n",
    "        celdas = fila.find_all('td')  # Buscar todas las celdas de la fila\n",
    "        if len(celdas) > 0:  # Asegurarse de que la fila tiene celdas\n",
    "            # Se extrae el texto de cada celda\n",
    "            l_id = celdas[0].text.strip()    \n",
    "            nombre = celdas[1].text.strip()    \n",
    "            descripcion = celdas[2].text.strip()  \n",
    "            coordenadas = celdas[3].text.strip()  \n",
    "            diametro = celdas[4].text.strip()  \n",
    "\n",
    "            \n",
    "            print(f'ID: {l_id}, Nombre: {nombre}, Descripción: {descripcion}, Coordenadas: {coordenadas}, Diámetro: {diametro}')\n",
    "else:\n",
    "    print(f'Error al acceder a la página. Código de estado: {response.status_code}')\n",
    "\n"
   ]
  }
 ],
 "metadata": {
  "kernelspec": {
   "display_name": "Python 3",
   "language": "python",
   "name": "python3"
  },
  "language_info": {
   "codemirror_mode": {
    "name": "ipython",
    "version": 3
   },
   "file_extension": ".py",
   "mimetype": "text/x-python",
   "name": "python",
   "nbconvert_exporter": "python",
   "pygments_lexer": "ipython3",
   "version": "3.12.4"
  }
 },
 "nbformat": 4,
 "nbformat_minor": 2
}
