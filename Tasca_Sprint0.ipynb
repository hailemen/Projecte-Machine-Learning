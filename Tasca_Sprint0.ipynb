{
 "cells": [
  {
   "cell_type": "markdown",
   "id": "a9f4f3f2-9772-4570-a91d-80a6512cdf83",
   "metadata": {},
   "source": [
    "### Esto es un  markdown !"
   ]
  },
  {
   "cell_type": "markdown",
   "id": "00395381-81cf-4884-a4dc-5dadea1e96fc",
   "metadata": {},
   "source": [
    "**Esto también, pero está en negrita e indico que sigue una suma**"
   ]
  },
  {
   "cell_type": "code",
   "execution_count": 5,
   "id": "3a919c73-70c0-496b-b576-bdbdde524768",
   "metadata": {},
   "outputs": [
    {
     "data": {
      "text/plain": [
       "48"
      ]
     },
     "execution_count": 5,
     "metadata": {},
     "output_type": "execute_result"
    }
   ],
   "source": [
    "28+20"
   ]
  },
  {
   "cell_type": "markdown",
   "id": "de1ae8a3-92a9-44bc-b9b9-7c96540fe886",
   "metadata": {},
   "source": [
    "#### Declaro dos variables y hago una operación con ellas, las variables son:\n",
    "\n",
    "- X con valor de 15\n",
    "- Y con valor de 10\n",
    "- Z que será el resultado de sumar X y Y\n"
   ]
  },
  {
   "cell_type": "code",
   "execution_count": 6,
   "id": "1ce60448-17be-4857-9b65-351576931d95",
   "metadata": {},
   "outputs": [],
   "source": [
    "X = 15\n",
    "Y = 10\n",
    "Z = X + Y"
   ]
  },
  {
   "cell_type": "markdown",
   "id": "f2f7bf19-ffcb-489d-b891-79fdd62bee10",
   "metadata": {},
   "source": [
    "*Al llamar la variable se muestra el resultado de la operación*"
   ]
  },
  {
   "cell_type": "code",
   "execution_count": 7,
   "id": "b383a63a-4556-4072-874c-152ddd69513f",
   "metadata": {},
   "outputs": [
    {
     "data": {
      "text/plain": [
       "25"
      ]
     },
     "execution_count": 7,
     "metadata": {},
     "output_type": "execute_result"
    }
   ],
   "source": [
    "Z"
   ]
  },
  {
   "cell_type": "markdown",
   "id": "9735bde6-ece9-4db5-9ea6-fbee0dfa4640",
   "metadata": {},
   "source": [
    "***Debes cumplir los siguientes pasos antes de dar por acabado el ejercicio***\n",
    "1. Esto es primero\n",
    "2. Esto es lo segundo\n",
    "3. Y esto es lo tercero"
   ]
  },
  {
   "cell_type": "markdown",
   "id": "e7b3900c-6de2-4550-9dc9-2b7135153bc1",
   "metadata": {},
   "source": []
  },
  {
   "cell_type": "markdown",
   "id": "51cd3a56-d6a5-499c-b37c-d14e1229bb08",
   "metadata": {},
   "source": [
    "*Finalmente este es una imagen insertada*\n",
    "![](https://lineadecodigo.com/wp-content/uploads/2009/09/casarural.jpg)"
   ]
  },
  {
   "cell_type": "code",
   "execution_count": null,
   "id": "77daff5a-2b19-4b2e-9602-d546e3507346",
   "metadata": {},
   "outputs": [],
   "source": []
  }
 ],
 "metadata": {
  "kernelspec": {
   "display_name": "Python 3 (ipykernel)",
   "language": "python",
   "name": "python3"
  },
  "language_info": {
   "codemirror_mode": {
    "name": "ipython",
    "version": 3
   },
   "file_extension": ".py",
   "mimetype": "text/x-python",
   "name": "python",
   "nbconvert_exporter": "python",
   "pygments_lexer": "ipython3",
   "version": "3.12.4"
  }
 },
 "nbformat": 4,
 "nbformat_minor": 5
}
