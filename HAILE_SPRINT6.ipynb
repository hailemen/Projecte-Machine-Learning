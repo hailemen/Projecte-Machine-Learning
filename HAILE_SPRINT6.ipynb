{
 "cells": [
  {
   "cell_type": "markdown",
   "metadata": {},
   "source": [
    "### Importación de las librerías a utilizar"
   ]
  },
  {
   "cell_type": "code",
   "execution_count": 270,
   "metadata": {},
   "outputs": [],
   "source": [
    "import pandas as pd\n",
    "import numpy as np\n",
    "import matplotlib.pyplot as plt\n",
    "import seaborn as sns\n",
    "from scipy.stats.mstats import winsorize\n",
    "from sklearn.preprocessing import StandardScaler, LabelEncoder\n"
   ]
  },
  {
   "cell_type": "code",
   "execution_count": 271,
   "metadata": {},
   "outputs": [],
   "source": [
    "df_bank = pd.read_csv('bank_dataset.CSV', header=0, delimiter= \",\")"
   ]
  },
  {
   "cell_type": "markdown",
   "metadata": {},
   "source": [
    "Elimino las variables/columnas que no necesitaré para el proyecto."
   ]
  },
  {
   "cell_type": "code",
   "execution_count": 272,
   "metadata": {},
   "outputs": [],
   "source": [
    "df_bank = df_bank.drop(columns=['contact', 'default', 'day', 'month', 'duration','campaign', 'pdays','poutcome', 'previous'])"
   ]
  },
  {
   "cell_type": "code",
   "execution_count": 273,
   "metadata": {},
   "outputs": [
    {
     "data": {
      "text/html": [
       "<div>\n",
       "<style scoped>\n",
       "    .dataframe tbody tr th:only-of-type {\n",
       "        vertical-align: middle;\n",
       "    }\n",
       "\n",
       "    .dataframe tbody tr th {\n",
       "        vertical-align: top;\n",
       "    }\n",
       "\n",
       "    .dataframe thead th {\n",
       "        text-align: right;\n",
       "    }\n",
       "</style>\n",
       "<table border=\"1\" class=\"dataframe\">\n",
       "  <thead>\n",
       "    <tr style=\"text-align: right;\">\n",
       "      <th></th>\n",
       "      <th>age</th>\n",
       "      <th>job</th>\n",
       "      <th>marital</th>\n",
       "      <th>education</th>\n",
       "      <th>balance</th>\n",
       "      <th>housing</th>\n",
       "      <th>loan</th>\n",
       "      <th>deposit</th>\n",
       "    </tr>\n",
       "  </thead>\n",
       "  <tbody>\n",
       "    <tr>\n",
       "      <th>0</th>\n",
       "      <td>59.0</td>\n",
       "      <td>admin.</td>\n",
       "      <td>married</td>\n",
       "      <td>secondary</td>\n",
       "      <td>2343</td>\n",
       "      <td>yes</td>\n",
       "      <td>no</td>\n",
       "      <td>yes</td>\n",
       "    </tr>\n",
       "    <tr>\n",
       "      <th>1</th>\n",
       "      <td>56.0</td>\n",
       "      <td>admin.</td>\n",
       "      <td>married</td>\n",
       "      <td>secondary</td>\n",
       "      <td>45</td>\n",
       "      <td>no</td>\n",
       "      <td>no</td>\n",
       "      <td>yes</td>\n",
       "    </tr>\n",
       "    <tr>\n",
       "      <th>2</th>\n",
       "      <td>41.0</td>\n",
       "      <td>technician</td>\n",
       "      <td>married</td>\n",
       "      <td>secondary</td>\n",
       "      <td>1270</td>\n",
       "      <td>yes</td>\n",
       "      <td>no</td>\n",
       "      <td>yes</td>\n",
       "    </tr>\n",
       "    <tr>\n",
       "      <th>3</th>\n",
       "      <td>55.0</td>\n",
       "      <td>services</td>\n",
       "      <td>married</td>\n",
       "      <td>secondary</td>\n",
       "      <td>2476</td>\n",
       "      <td>yes</td>\n",
       "      <td>no</td>\n",
       "      <td>yes</td>\n",
       "    </tr>\n",
       "    <tr>\n",
       "      <th>4</th>\n",
       "      <td>54.0</td>\n",
       "      <td>admin.</td>\n",
       "      <td>married</td>\n",
       "      <td>tertiary</td>\n",
       "      <td>184</td>\n",
       "      <td>no</td>\n",
       "      <td>no</td>\n",
       "      <td>yes</td>\n",
       "    </tr>\n",
       "  </tbody>\n",
       "</table>\n",
       "</div>"
      ],
      "text/plain": [
       "    age         job  marital  education  balance housing loan deposit\n",
       "0  59.0      admin.  married  secondary     2343     yes   no     yes\n",
       "1  56.0      admin.  married  secondary       45      no   no     yes\n",
       "2  41.0  technician  married  secondary     1270     yes   no     yes\n",
       "3  55.0    services  married  secondary     2476     yes   no     yes\n",
       "4  54.0      admin.  married   tertiary      184      no   no     yes"
      ]
     },
     "execution_count": 273,
     "metadata": {},
     "output_type": "execute_result"
    }
   ],
   "source": [
    "df_bank.head()"
   ]
  },
  {
   "cell_type": "markdown",
   "metadata": {},
   "source": [
    "Localizo los valores nulos"
   ]
  },
  {
   "cell_type": "code",
   "execution_count": 274,
   "metadata": {},
   "outputs": [
    {
     "data": {
      "text/plain": [
       "age          10\n",
       "job           0\n",
       "marital       5\n",
       "education     7\n",
       "balance       0\n",
       "housing       0\n",
       "loan          0\n",
       "deposit       0\n",
       "dtype: int64"
      ]
     },
     "execution_count": 274,
     "metadata": {},
     "output_type": "execute_result"
    }
   ],
   "source": [
    "df_bank.isnull().sum()"
   ]
  },
  {
   "cell_type": "markdown",
   "metadata": {},
   "source": [
    "En el caso de age utilizaré la media de marital para completar los valores faltantes"
   ]
  },
  {
   "cell_type": "code",
   "execution_count": 275,
   "metadata": {},
   "outputs": [],
   "source": [
    "avg_ages = df_bank.groupby(\"marital\")[\"age\"].mean().round()\n",
    "\n",
    "for status, avg_age in avg_ages.items():\n",
    "    df_bank.loc[(df_bank[\"marital\"] == status) & (df_bank[\"age\"].isna()), \"age\"] = avg_age"
   ]
  },
  {
   "cell_type": "markdown",
   "metadata": {},
   "source": [
    "En la variable `age` observo también que los valores dentro de esta presentan números decimales y es del tipo (float); no tiene sentido que se mantenga así y cambio el tipo a (int)"
   ]
  },
  {
   "cell_type": "code",
   "execution_count": 276,
   "metadata": {},
   "outputs": [],
   "source": [
    "df_bank['age'] = df_bank['age'].astype('int')"
   ]
  },
  {
   "cell_type": "markdown",
   "metadata": {},
   "source": [
    "En el caso de la variable `marital` utilizo la moda para imputar los valores nulos"
   ]
  },
  {
   "cell_type": "code",
   "execution_count": 277,
   "metadata": {},
   "outputs": [],
   "source": [
    "moda_marital = df_bank.groupby(['job', 'age'])['marital'].transform(lambda x: x.mode()[0] if not x.isnull().all() else None)\n",
    "df_bank['marital'] = df_bank['marital'].fillna(moda_marital)"
   ]
  },
  {
   "cell_type": "markdown",
   "metadata": {},
   "source": [
    "Para la variable `education` utilizo la moda para imputar los valores nulos"
   ]
  },
  {
   "cell_type": "code",
   "execution_count": 278,
   "metadata": {},
   "outputs": [],
   "source": [
    "moda_education = df_bank.groupby(['job', 'age'])['education'].transform(lambda x: x.mode()[0] if not x.isnull().all() else None)\n",
    "df_bank['education'] = df_bank['education'].fillna(moda_education)"
   ]
  },
  {
   "cell_type": "code",
   "execution_count": 279,
   "metadata": {},
   "outputs": [
    {
     "data": {
      "text/plain": [
       "age          0\n",
       "job          0\n",
       "marital      0\n",
       "education    0\n",
       "balance      0\n",
       "housing      0\n",
       "loan         0\n",
       "deposit      0\n",
       "dtype: int64"
      ]
     },
     "execution_count": 279,
     "metadata": {},
     "output_type": "execute_result"
    }
   ],
   "source": [
    "# Compruebo que se hayan eliminado los valores nulos\n",
    "\n",
    "df_bank.isnull().sum()"
   ]
  },
  {
   "cell_type": "markdown",
   "metadata": {},
   "source": [
    "Observo que en la variable de `job` hay varias categorías, enlisto la cantidad de clientes que hay por cada una, por lo que probaré crear subgrupos para reducir la cantidad de categorías de esta variable, buscando evitar tener muchas columnas cuando trabaje con la codificación de esta variable y su posterior uso al trabajar con el algoritmo (K-MEans Clustering)."
   ]
  },
  {
   "cell_type": "code",
   "execution_count": 280,
   "metadata": {},
   "outputs": [
    {
     "name": "stdout",
     "output_type": "stream",
     "text": [
      "job\n",
      "admin.           1334\n",
      "blue-collar      1944\n",
      "entrepreneur      328\n",
      "housemaid         274\n",
      "management       2566\n",
      "retired           778\n",
      "self-employed     405\n",
      "services          923\n",
      "student           360\n",
      "technician       1823\n",
      "unemployed        357\n",
      "unknown            70\n",
      "dtype: int64\n"
     ]
    }
   ],
   "source": [
    "cantidades_education = df_bank.groupby('job').size()\n",
    "print(cantidades_education)"
   ]
  },
  {
   "cell_type": "markdown",
   "metadata": {},
   "source": [
    "Decido crear 5 categorías para probar reducir la dimensión de esta variable previo a la codificación"
   ]
  },
  {
   "cell_type": "code",
   "execution_count": 281,
   "metadata": {},
   "outputs": [
    {
     "name": "stdout",
     "output_type": "stream",
     "text": [
      "job\n",
      "profesional    6456\n",
      "manual         3141\n",
      "otro            787\n",
      "retired         778\n",
      "Name: count, dtype: int64\n"
     ]
    }
   ],
   "source": [
    "job_mapeo = {\n",
    "    \"admin.\": \"profesional\",\n",
    "    \"technician\": \"profesional\",\n",
    "    \"management\": \"profesional\",\n",
    "    \"entrepreneur\": \"profesional\",\n",
    "    \"self-employed\": \"profesional\",\n",
    "    \"blue-collar\": \"manual\",\n",
    "    \"services\": \"manual\",\n",
    "    \"housemaid\": \"manual\",\n",
    "    \"unemployed\": \"otro\",\n",
    "    \"student\": \"otro\",\n",
    "    \"unknown\": \"otro\"\n",
    "}\n",
    "\n",
    "df_bank['job'] = df_bank['job'].replace(job_mapeo)\n",
    "\n",
    "print(df_bank['job'].value_counts())"
   ]
  },
  {
   "cell_type": "markdown",
   "metadata": {},
   "source": [
    "En la tarea previa de EDA vi que existían una cantidad importante de outliers, a los cuales contemplo pasar por la técnica de winsorizarlos en lugar de eliminarlos, aún así creo una copia para no perder los datos de origen"
   ]
  },
  {
   "cell_type": "code",
   "execution_count": 282,
   "metadata": {},
   "outputs": [],
   "source": [
    "df_bank_w = df_bank.copy()\n",
    "\n",
    "df_bank_w['age'] = winsorize(df_bank['age'], limits= [0.05, 0.05], inplace= True)\n",
    "\n",
    "df_bank_w['balance'] = winsorize(df_bank['balance'], limits= [0.05, 0.05], inplace= True)"
   ]
  },
  {
   "cell_type": "markdown",
   "metadata": {},
   "source": [
    "Para personalizar el dataframe decido traducir al español los elementos dentro de este y así hacerlo más comprensible a las personas que lo puedan necesitar"
   ]
  },
  {
   "cell_type": "code",
   "execution_count": 283,
   "metadata": {},
   "outputs": [
    {
     "data": {
      "text/html": [
       "<div>\n",
       "<style scoped>\n",
       "    .dataframe tbody tr th:only-of-type {\n",
       "        vertical-align: middle;\n",
       "    }\n",
       "\n",
       "    .dataframe tbody tr th {\n",
       "        vertical-align: top;\n",
       "    }\n",
       "\n",
       "    .dataframe thead th {\n",
       "        text-align: right;\n",
       "    }\n",
       "</style>\n",
       "<table border=\"1\" class=\"dataframe\">\n",
       "  <thead>\n",
       "    <tr style=\"text-align: right;\">\n",
       "      <th></th>\n",
       "      <th>edad</th>\n",
       "      <th>trabajo</th>\n",
       "      <th>estado_civil</th>\n",
       "      <th>educacion</th>\n",
       "      <th>saldo</th>\n",
       "      <th>hipoteca</th>\n",
       "      <th>prestamos</th>\n",
       "      <th>deposito</th>\n",
       "    </tr>\n",
       "  </thead>\n",
       "  <tbody>\n",
       "    <tr>\n",
       "      <th>0</th>\n",
       "      <td>59</td>\n",
       "      <td>profesional</td>\n",
       "      <td>casado</td>\n",
       "      <td>media</td>\n",
       "      <td>2343</td>\n",
       "      <td>sí</td>\n",
       "      <td>no</td>\n",
       "      <td>sí</td>\n",
       "    </tr>\n",
       "    <tr>\n",
       "      <th>1</th>\n",
       "      <td>56</td>\n",
       "      <td>profesional</td>\n",
       "      <td>casado</td>\n",
       "      <td>media</td>\n",
       "      <td>45</td>\n",
       "      <td>no</td>\n",
       "      <td>no</td>\n",
       "      <td>sí</td>\n",
       "    </tr>\n",
       "    <tr>\n",
       "      <th>2</th>\n",
       "      <td>41</td>\n",
       "      <td>profesional</td>\n",
       "      <td>casado</td>\n",
       "      <td>media</td>\n",
       "      <td>1270</td>\n",
       "      <td>sí</td>\n",
       "      <td>no</td>\n",
       "      <td>sí</td>\n",
       "    </tr>\n",
       "    <tr>\n",
       "      <th>3</th>\n",
       "      <td>55</td>\n",
       "      <td>manual</td>\n",
       "      <td>casado</td>\n",
       "      <td>media</td>\n",
       "      <td>2476</td>\n",
       "      <td>sí</td>\n",
       "      <td>no</td>\n",
       "      <td>sí</td>\n",
       "    </tr>\n",
       "    <tr>\n",
       "      <th>4</th>\n",
       "      <td>54</td>\n",
       "      <td>profesional</td>\n",
       "      <td>casado</td>\n",
       "      <td>superior</td>\n",
       "      <td>184</td>\n",
       "      <td>no</td>\n",
       "      <td>no</td>\n",
       "      <td>sí</td>\n",
       "    </tr>\n",
       "  </tbody>\n",
       "</table>\n",
       "</div>"
      ],
      "text/plain": [
       "   edad      trabajo estado_civil educacion  saldo hipoteca prestamos deposito\n",
       "0    59  profesional       casado     media   2343       sí        no       sí\n",
       "1    56  profesional       casado     media     45       no        no       sí\n",
       "2    41  profesional       casado     media   1270       sí        no       sí\n",
       "3    55       manual       casado     media   2476       sí        no       sí\n",
       "4    54  profesional       casado  superior    184       no        no       sí"
      ]
     },
     "execution_count": 283,
     "metadata": {},
     "output_type": "execute_result"
    }
   ],
   "source": [
    "df_bank_w[\"marital\"] = np.where(df_bank_w[\"marital\"] == \"married\", \"casado\",\n",
    "                                np.where(df_bank_w[\"marital\"] == \"single\", \"soltero\",\n",
    "                                         \"divorciado\"))\n",
    "\n",
    "df_bank_w[\"education\"] = np.where(df_bank_w[\"education\"] == \"primary\", \"primaria\",\n",
    "                                np.where(df_bank_w[\"education\"] == \"secondary\", \"media\",\n",
    "                                         \"superior\"))\n",
    "\n",
    "df_bank_w[\"housing\"] = np.where(df_bank_w[\"housing\"] == \"no\", \"no\", \"sí\")\n",
    "\n",
    "df_bank_w[\"deposit\"] = np.where(df_bank_w[\"deposit\"] == \"no\", \"no\", \"sí\")\n",
    "\n",
    "df_bank_w[\"job\"] = np.where(df_bank_w[\"job\"] == \"retired\", \"retirado\", df_bank_w['job'])\n",
    "\n",
    "# Renombro las columnas\n",
    "\n",
    "df_bank_w = df_bank_w.rename(columns={\n",
    "    'age': 'edad',\n",
    "    'job': 'trabajo',\n",
    "    'marital': 'estado_civil',\n",
    "    'education': 'educacion',\n",
    "    'balance': 'saldo',\n",
    "    'housing': 'hipoteca',\n",
    "    'loan': 'prestamos',\n",
    "    'deposit': 'deposito'\n",
    "})\n",
    "\n",
    "df_bank_w.head()"
   ]
  },
  {
   "cell_type": "code",
   "execution_count": null,
   "metadata": {},
   "outputs": [],
   "source": [
    "\n"
   ]
  },
  {
   "cell_type": "code",
   "execution_count": 284,
   "metadata": {},
   "outputs": [
    {
     "data": {
      "text/html": [
       "<div>\n",
       "<style scoped>\n",
       "    .dataframe tbody tr th:only-of-type {\n",
       "        vertical-align: middle;\n",
       "    }\n",
       "\n",
       "    .dataframe tbody tr th {\n",
       "        vertical-align: top;\n",
       "    }\n",
       "\n",
       "    .dataframe thead th {\n",
       "        text-align: right;\n",
       "    }\n",
       "</style>\n",
       "<table border=\"1\" class=\"dataframe\">\n",
       "  <thead>\n",
       "    <tr style=\"text-align: right;\">\n",
       "      <th></th>\n",
       "      <th>edad</th>\n",
       "      <th>saldo</th>\n",
       "      <th>trabajo_manual</th>\n",
       "      <th>trabajo_otro</th>\n",
       "      <th>trabajo_profesional</th>\n",
       "      <th>trabajo_retirado</th>\n",
       "      <th>estado_civil_casado</th>\n",
       "      <th>estado_civil_divorciado</th>\n",
       "      <th>estado_civil_soltero</th>\n",
       "      <th>educacion_media</th>\n",
       "      <th>educacion_primaria</th>\n",
       "      <th>educacion_superior</th>\n",
       "      <th>hipoteca_no</th>\n",
       "      <th>hipoteca_sí</th>\n",
       "      <th>prestamos_no</th>\n",
       "      <th>prestamos_yes</th>\n",
       "      <th>deposito_no</th>\n",
       "      <th>deposito_sí</th>\n",
       "    </tr>\n",
       "  </thead>\n",
       "  <tbody>\n",
       "    <tr>\n",
       "      <th>0</th>\n",
       "      <td>59</td>\n",
       "      <td>2343</td>\n",
       "      <td>0</td>\n",
       "      <td>0</td>\n",
       "      <td>1</td>\n",
       "      <td>0</td>\n",
       "      <td>1</td>\n",
       "      <td>0</td>\n",
       "      <td>0</td>\n",
       "      <td>1</td>\n",
       "      <td>0</td>\n",
       "      <td>0</td>\n",
       "      <td>0</td>\n",
       "      <td>1</td>\n",
       "      <td>1</td>\n",
       "      <td>0</td>\n",
       "      <td>0</td>\n",
       "      <td>1</td>\n",
       "    </tr>\n",
       "    <tr>\n",
       "      <th>1</th>\n",
       "      <td>56</td>\n",
       "      <td>45</td>\n",
       "      <td>0</td>\n",
       "      <td>0</td>\n",
       "      <td>1</td>\n",
       "      <td>0</td>\n",
       "      <td>1</td>\n",
       "      <td>0</td>\n",
       "      <td>0</td>\n",
       "      <td>1</td>\n",
       "      <td>0</td>\n",
       "      <td>0</td>\n",
       "      <td>1</td>\n",
       "      <td>0</td>\n",
       "      <td>1</td>\n",
       "      <td>0</td>\n",
       "      <td>0</td>\n",
       "      <td>1</td>\n",
       "    </tr>\n",
       "    <tr>\n",
       "      <th>2</th>\n",
       "      <td>41</td>\n",
       "      <td>1270</td>\n",
       "      <td>0</td>\n",
       "      <td>0</td>\n",
       "      <td>1</td>\n",
       "      <td>0</td>\n",
       "      <td>1</td>\n",
       "      <td>0</td>\n",
       "      <td>0</td>\n",
       "      <td>1</td>\n",
       "      <td>0</td>\n",
       "      <td>0</td>\n",
       "      <td>0</td>\n",
       "      <td>1</td>\n",
       "      <td>1</td>\n",
       "      <td>0</td>\n",
       "      <td>0</td>\n",
       "      <td>1</td>\n",
       "    </tr>\n",
       "    <tr>\n",
       "      <th>3</th>\n",
       "      <td>55</td>\n",
       "      <td>2476</td>\n",
       "      <td>1</td>\n",
       "      <td>0</td>\n",
       "      <td>0</td>\n",
       "      <td>0</td>\n",
       "      <td>1</td>\n",
       "      <td>0</td>\n",
       "      <td>0</td>\n",
       "      <td>1</td>\n",
       "      <td>0</td>\n",
       "      <td>0</td>\n",
       "      <td>0</td>\n",
       "      <td>1</td>\n",
       "      <td>1</td>\n",
       "      <td>0</td>\n",
       "      <td>0</td>\n",
       "      <td>1</td>\n",
       "    </tr>\n",
       "    <tr>\n",
       "      <th>4</th>\n",
       "      <td>54</td>\n",
       "      <td>184</td>\n",
       "      <td>0</td>\n",
       "      <td>0</td>\n",
       "      <td>1</td>\n",
       "      <td>0</td>\n",
       "      <td>1</td>\n",
       "      <td>0</td>\n",
       "      <td>0</td>\n",
       "      <td>0</td>\n",
       "      <td>0</td>\n",
       "      <td>1</td>\n",
       "      <td>1</td>\n",
       "      <td>0</td>\n",
       "      <td>1</td>\n",
       "      <td>0</td>\n",
       "      <td>0</td>\n",
       "      <td>1</td>\n",
       "    </tr>\n",
       "  </tbody>\n",
       "</table>\n",
       "</div>"
      ],
      "text/plain": [
       "   edad  saldo  trabajo_manual  trabajo_otro  trabajo_profesional  \\\n",
       "0    59   2343               0             0                    1   \n",
       "1    56     45               0             0                    1   \n",
       "2    41   1270               0             0                    1   \n",
       "3    55   2476               1             0                    0   \n",
       "4    54    184               0             0                    1   \n",
       "\n",
       "   trabajo_retirado  estado_civil_casado  estado_civil_divorciado  \\\n",
       "0                 0                    1                        0   \n",
       "1                 0                    1                        0   \n",
       "2                 0                    1                        0   \n",
       "3                 0                    1                        0   \n",
       "4                 0                    1                        0   \n",
       "\n",
       "   estado_civil_soltero  educacion_media  educacion_primaria  \\\n",
       "0                     0                1                   0   \n",
       "1                     0                1                   0   \n",
       "2                     0                1                   0   \n",
       "3                     0                1                   0   \n",
       "4                     0                0                   0   \n",
       "\n",
       "   educacion_superior  hipoteca_no  hipoteca_sí  prestamos_no  prestamos_yes  \\\n",
       "0                   0            0            1             1              0   \n",
       "1                   0            1            0             1              0   \n",
       "2                   0            0            1             1              0   \n",
       "3                   0            0            1             1              0   \n",
       "4                   1            1            0             1              0   \n",
       "\n",
       "   deposito_no  deposito_sí  \n",
       "0            0            1  \n",
       "1            0            1  \n",
       "2            0            1  \n",
       "3            0            1  \n",
       "4            0            1  "
      ]
     },
     "execution_count": 284,
     "metadata": {},
     "output_type": "execute_result"
    }
   ],
   "source": [
    "df_bank_w = pd.get_dummies(df_bank_w, columns=['trabajo', 'estado_civil', 'educacion', 'hipoteca', 'prestamos', 'deposito'])\n",
    "df_bank_w = df_bank_w.astype(int)\n",
    "\n",
    "df_bank_w.head()"
   ]
  }
 ],
 "metadata": {
  "kernelspec": {
   "display_name": "Python 3",
   "language": "python",
   "name": "python3"
  },
  "language_info": {
   "codemirror_mode": {
    "name": "ipython",
    "version": 3
   },
   "file_extension": ".py",
   "mimetype": "text/x-python",
   "name": "python",
   "nbconvert_exporter": "python",
   "pygments_lexer": "ipython3",
   "version": "3.12.4"
  }
 },
 "nbformat": 4,
 "nbformat_minor": 2
}
